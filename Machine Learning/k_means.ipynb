{
 "cells": [
  {
   "cell_type": "code",
   "execution_count": 1,
   "source": [
    "import pandas as pd\n",
    "import numpy as np\n",
    "import matplotlib.pyplot as plt\n",
    "import seaborn as sns"
   ],
   "outputs": [],
   "metadata": {}
  },
  {
   "cell_type": "code",
   "execution_count": 2,
   "source": [
    "from sklearn.datasets import make_blobs"
   ],
   "outputs": [],
   "metadata": {}
  },
  {
   "cell_type": "code",
   "execution_count": 5,
   "source": [
    "datos = make_blobs(n_samples=200, n_features=2, centers=4)\n",
    "datos"
   ],
   "outputs": [
    {
     "output_type": "execute_result",
     "data": {
      "text/plain": [
       "(array([[ 1.98816635, -3.39208871],\n",
       "        [ 3.81421147,  1.76133384],\n",
       "        [ 1.81973502, -3.13016248],\n",
       "        [ 5.62027863, -0.4265457 ],\n",
       "        [ 1.59687139, -4.55793246],\n",
       "        [ 1.16823621, -4.41047053],\n",
       "        [ 3.93963463,  5.65850088],\n",
       "        [ 3.20662999,  4.97602281],\n",
       "        [ 6.31266686,  1.87641842],\n",
       "        [ 3.21666361, -5.30884604],\n",
       "        [ 5.02531779,  1.87867029],\n",
       "        [ 5.01861102,  0.79094017],\n",
       "        [-0.44750599, -1.599503  ],\n",
       "        [-3.96282626, -3.27670839],\n",
       "        [ 0.82503303, -1.43260589],\n",
       "        [ 2.75021424, -4.95632225],\n",
       "        [ 3.70881216,  6.49402741],\n",
       "        [-2.75714103, -5.18757752],\n",
       "        [-3.65984852, -4.56167814],\n",
       "        [ 2.61242407,  5.82654771],\n",
       "        [ 2.38193972,  5.8274136 ],\n",
       "        [ 4.35377875,  1.39047191],\n",
       "        [ 0.5436764 , -1.50903224],\n",
       "        [-4.38383386, -3.7265775 ],\n",
       "        [ 0.89709108, -1.82998934],\n",
       "        [ 2.64561516, -2.65324151],\n",
       "        [ 2.94129984, -3.17131405],\n",
       "        [-4.22534245, -5.14350429],\n",
       "        [ 2.98612311,  6.86239453],\n",
       "        [-5.45263115, -3.09011193],\n",
       "        [ 1.02705432, -2.26345011],\n",
       "        [-3.5945006 , -5.96821339],\n",
       "        [-4.41252152, -4.83938712],\n",
       "        [ 6.91210024, -0.27147802],\n",
       "        [ 5.84345797,  7.07885367],\n",
       "        [ 0.79693187, -3.34430823],\n",
       "        [ 5.90169111,  1.48092032],\n",
       "        [ 1.95631606,  5.27036199],\n",
       "        [-4.22782636, -4.15619035],\n",
       "        [ 5.00796674,  2.14821739],\n",
       "        [ 4.69873089,  6.74873847],\n",
       "        [ 4.98820717,  0.09715919],\n",
       "        [ 3.36248915,  6.74519619],\n",
       "        [ 5.61069575,  0.31565903],\n",
       "        [-3.66554271, -3.67627657],\n",
       "        [ 6.17167725, -0.35945091],\n",
       "        [ 1.90496953, -4.92747152],\n",
       "        [-3.391539  , -5.65499543],\n",
       "        [ 2.74677439, -1.96554542],\n",
       "        [ 2.6392083 , -3.03386111],\n",
       "        [-4.5119746 , -4.73119023],\n",
       "        [ 4.81168884,  0.83794174],\n",
       "        [ 2.32374791, -0.97348252],\n",
       "        [-0.24072483, -1.3127746 ],\n",
       "        [ 3.96138334,  7.0091378 ],\n",
       "        [-4.97430865, -5.81038461],\n",
       "        [ 1.33902395, -4.19688545],\n",
       "        [ 0.64453791, -2.39271262],\n",
       "        [ 5.18900021,  0.78709591],\n",
       "        [ 1.89852257,  6.58441691],\n",
       "        [ 1.98631796, -5.05539208],\n",
       "        [ 3.28287194,  8.79563668],\n",
       "        [ 4.65000338,  0.95577852],\n",
       "        [ 4.92981735,  0.60307377],\n",
       "        [ 6.61502046,  0.91118847],\n",
       "        [ 1.75237336, -2.65317389],\n",
       "        [-4.17279415, -4.34638288],\n",
       "        [ 3.29091292,  5.25519   ],\n",
       "        [ 5.3864801 ,  1.78562661],\n",
       "        [ 6.77139193,  0.10750942],\n",
       "        [ 4.7039345 ,  0.49223366],\n",
       "        [ 3.64010249,  6.09235539],\n",
       "        [-0.24773365, -2.10346309],\n",
       "        [ 3.00804108, -3.50398645],\n",
       "        [-4.04096366, -3.53053251],\n",
       "        [-3.47001892, -4.37540738],\n",
       "        [-4.58343164, -3.26740995],\n",
       "        [ 4.59821354,  1.59262517],\n",
       "        [ 3.19841257,  5.04732191],\n",
       "        [ 4.79138654, -0.19170694],\n",
       "        [-3.32011685, -4.59788121],\n",
       "        [ 4.32159607,  6.22550936],\n",
       "        [ 1.82470196, -3.19640493],\n",
       "        [ 5.38155666,  2.26676877],\n",
       "        [-4.21235759, -4.02053192],\n",
       "        [ 6.10290011,  0.34401846],\n",
       "        [ 2.28827521,  4.946883  ],\n",
       "        [ 3.8933192 ,  5.86318972],\n",
       "        [ 2.6308117 ,  6.19567503],\n",
       "        [-4.72656837, -5.93271971],\n",
       "        [ 5.38018603, -0.65445871],\n",
       "        [-3.9864421 , -4.21034455],\n",
       "        [-4.43475374, -4.12448518],\n",
       "        [ 6.6923537 ,  1.36709799],\n",
       "        [ 4.71530956,  7.58174199],\n",
       "        [ 6.13992354,  1.59597649],\n",
       "        [ 3.14262772, -2.26775163],\n",
       "        [ 0.94745291, -2.19919775],\n",
       "        [-5.50006242, -4.82059851],\n",
       "        [-4.5343719 , -4.98141623],\n",
       "        [ 5.22601846,  2.47533949],\n",
       "        [ 5.73360927, -0.4342303 ],\n",
       "        [ 2.30125074,  8.57852931],\n",
       "        [ 5.62638992, -1.04857484],\n",
       "        [ 1.53579083, -4.08543038],\n",
       "        [ 2.57602701,  6.98989574],\n",
       "        [ 6.58585156,  0.05957044],\n",
       "        [ 1.50374966, -3.71886298],\n",
       "        [-4.15022647, -4.226127  ],\n",
       "        [-4.44646599, -4.17694292],\n",
       "        [ 3.97530255,  7.17171503],\n",
       "        [ 7.11347749, -0.48195408],\n",
       "        [ 7.44622309, -0.18941251],\n",
       "        [ 1.53733737,  5.8193534 ],\n",
       "        [-4.81082446, -5.18738165],\n",
       "        [ 1.22783463, -3.50464056],\n",
       "        [ 3.36584387,  6.30169126],\n",
       "        [-4.96439699, -6.07088502],\n",
       "        [ 1.70218533, -2.87856133],\n",
       "        [-3.09630409, -2.48530379],\n",
       "        [ 2.49660992, -2.91252618],\n",
       "        [-3.38524747, -3.49552511],\n",
       "        [ 1.34435439, -2.64945622],\n",
       "        [-4.11016477, -3.42692871],\n",
       "        [-3.04786576, -5.94585341],\n",
       "        [ 5.97133909,  1.07557805],\n",
       "        [ 1.96238001,  4.79427882],\n",
       "        [ 2.35334108,  5.282867  ],\n",
       "        [-3.88570573, -4.6395712 ],\n",
       "        [ 1.59023166,  5.17454332],\n",
       "        [ 3.1451523 ,  6.58299082],\n",
       "        [ 3.81962613,  5.07469957],\n",
       "        [-6.03676671, -3.37042592],\n",
       "        [ 2.53953668,  6.06395971],\n",
       "        [ 0.74340451, -3.17233426],\n",
       "        [ 4.74232293,  6.0545032 ],\n",
       "        [ 6.26832619,  6.23049491],\n",
       "        [ 1.51047544, -1.05016002],\n",
       "        [ 1.22258682,  6.2785466 ],\n",
       "        [ 5.23075405,  2.87074331],\n",
       "        [-5.27517989, -4.22527853],\n",
       "        [ 5.55817034,  1.33033093],\n",
       "        [-2.06770873, -5.21164726],\n",
       "        [ 6.74773672, -0.30988833],\n",
       "        [-4.23234155, -4.28167516],\n",
       "        [-4.24791379, -3.72311827],\n",
       "        [ 6.30153599,  1.48643254],\n",
       "        [ 3.73100475,  7.5021313 ],\n",
       "        [ 5.2880907 ,  0.50987118],\n",
       "        [ 1.23440139, -1.98742346],\n",
       "        [-3.6440812 , -5.34564807],\n",
       "        [-3.85259038, -4.82429962],\n",
       "        [ 3.62758747,  6.52329224],\n",
       "        [ 3.29521851,  4.75261246],\n",
       "        [ 4.46494849,  1.51980741],\n",
       "        [ 1.92884795, -3.73886694],\n",
       "        [-3.48502987, -3.26394622],\n",
       "        [ 4.56345588,  1.23946843],\n",
       "        [ 7.07398729,  0.7458452 ],\n",
       "        [ 0.25785621, -3.32900493],\n",
       "        [ 5.14687399,  1.6996436 ],\n",
       "        [ 4.34499034,  6.94993206],\n",
       "        [-4.52170337, -3.99207309],\n",
       "        [ 6.90691305,  1.52480404],\n",
       "        [ 2.32920017,  5.05202606],\n",
       "        [ 0.30973601, -4.33176086],\n",
       "        [ 4.02681882,  5.63926178],\n",
       "        [ 0.53812481, -3.3854645 ],\n",
       "        [-4.61885844, -4.81386876],\n",
       "        [ 3.76137783,  6.21590753],\n",
       "        [-4.68993938, -3.22561366],\n",
       "        [ 3.90547344,  5.4632881 ],\n",
       "        [ 1.79361456, -5.42162109],\n",
       "        [ 1.94278909, -3.17031457],\n",
       "        [ 4.52553486,  0.75751916],\n",
       "        [ 2.64504534,  7.65290198],\n",
       "        [ 4.17818063,  1.95883451],\n",
       "        [ 2.93718333, -2.14478506],\n",
       "        [ 5.86599176,  0.4852489 ],\n",
       "        [ 0.37784067, -2.05879835],\n",
       "        [ 4.53580507,  1.17014898],\n",
       "        [ 0.49630107, -3.96282813],\n",
       "        [ 4.52139845,  5.84631488],\n",
       "        [-5.18928028, -4.39560163],\n",
       "        [-4.44998103, -5.29260976],\n",
       "        [-4.16891029, -5.99129032],\n",
       "        [ 1.02578109,  5.48316933],\n",
       "        [ 2.13116721, -3.67242845],\n",
       "        [-2.83818537, -5.79273793],\n",
       "        [ 2.10363249,  4.01360737],\n",
       "        [ 2.72384056, -3.12825517],\n",
       "        [ 4.40360545,  0.91436825],\n",
       "        [ 3.36378444,  5.47469839],\n",
       "        [ 2.7887081 ,  4.88792797],\n",
       "        [ 1.84174207, -2.52222662],\n",
       "        [ 4.8837673 ,  7.14069319],\n",
       "        [-4.47034156, -3.06581897],\n",
       "        [ 6.08857091,  3.01612598],\n",
       "        [ 1.16922157, -0.70590783],\n",
       "        [-3.76100471, -5.26026756]]),\n",
       " array([0, 1, 0, 1, 0, 0, 2, 2, 1, 0, 1, 1, 0, 3, 0, 0, 2, 3, 3, 2, 2, 1,\n",
       "        0, 3, 0, 0, 0, 3, 2, 3, 0, 3, 3, 1, 2, 0, 1, 2, 3, 1, 2, 1, 2, 1,\n",
       "        3, 1, 0, 3, 0, 0, 3, 1, 0, 0, 2, 3, 0, 0, 1, 2, 0, 2, 1, 1, 1, 0,\n",
       "        3, 2, 1, 1, 1, 2, 0, 0, 3, 3, 3, 1, 2, 1, 3, 2, 0, 1, 3, 1, 2, 2,\n",
       "        2, 3, 1, 3, 3, 1, 2, 1, 0, 0, 3, 3, 1, 1, 2, 1, 0, 2, 1, 0, 3, 3,\n",
       "        2, 1, 1, 2, 3, 0, 2, 3, 0, 3, 0, 3, 0, 3, 3, 1, 2, 2, 3, 2, 2, 2,\n",
       "        3, 2, 0, 2, 2, 0, 2, 1, 3, 1, 3, 1, 3, 3, 1, 2, 1, 0, 3, 3, 2, 2,\n",
       "        1, 0, 3, 1, 1, 0, 1, 2, 3, 1, 2, 0, 2, 0, 3, 2, 3, 2, 0, 0, 1, 2,\n",
       "        1, 0, 1, 0, 1, 0, 2, 3, 3, 3, 2, 0, 3, 2, 0, 1, 2, 2, 0, 2, 3, 1,\n",
       "        0, 3]))"
      ]
     },
     "metadata": {},
     "execution_count": 5
    }
   ],
   "metadata": {}
  },
  {
   "cell_type": "code",
   "execution_count": 6,
   "source": [
    "datos[0]"
   ],
   "outputs": [
    {
     "output_type": "execute_result",
     "data": {
      "text/plain": [
       "array([[ 1.98816635, -3.39208871],\n",
       "       [ 3.81421147,  1.76133384],\n",
       "       [ 1.81973502, -3.13016248],\n",
       "       [ 5.62027863, -0.4265457 ],\n",
       "       [ 1.59687139, -4.55793246],\n",
       "       [ 1.16823621, -4.41047053],\n",
       "       [ 3.93963463,  5.65850088],\n",
       "       [ 3.20662999,  4.97602281],\n",
       "       [ 6.31266686,  1.87641842],\n",
       "       [ 3.21666361, -5.30884604],\n",
       "       [ 5.02531779,  1.87867029],\n",
       "       [ 5.01861102,  0.79094017],\n",
       "       [-0.44750599, -1.599503  ],\n",
       "       [-3.96282626, -3.27670839],\n",
       "       [ 0.82503303, -1.43260589],\n",
       "       [ 2.75021424, -4.95632225],\n",
       "       [ 3.70881216,  6.49402741],\n",
       "       [-2.75714103, -5.18757752],\n",
       "       [-3.65984852, -4.56167814],\n",
       "       [ 2.61242407,  5.82654771],\n",
       "       [ 2.38193972,  5.8274136 ],\n",
       "       [ 4.35377875,  1.39047191],\n",
       "       [ 0.5436764 , -1.50903224],\n",
       "       [-4.38383386, -3.7265775 ],\n",
       "       [ 0.89709108, -1.82998934],\n",
       "       [ 2.64561516, -2.65324151],\n",
       "       [ 2.94129984, -3.17131405],\n",
       "       [-4.22534245, -5.14350429],\n",
       "       [ 2.98612311,  6.86239453],\n",
       "       [-5.45263115, -3.09011193],\n",
       "       [ 1.02705432, -2.26345011],\n",
       "       [-3.5945006 , -5.96821339],\n",
       "       [-4.41252152, -4.83938712],\n",
       "       [ 6.91210024, -0.27147802],\n",
       "       [ 5.84345797,  7.07885367],\n",
       "       [ 0.79693187, -3.34430823],\n",
       "       [ 5.90169111,  1.48092032],\n",
       "       [ 1.95631606,  5.27036199],\n",
       "       [-4.22782636, -4.15619035],\n",
       "       [ 5.00796674,  2.14821739],\n",
       "       [ 4.69873089,  6.74873847],\n",
       "       [ 4.98820717,  0.09715919],\n",
       "       [ 3.36248915,  6.74519619],\n",
       "       [ 5.61069575,  0.31565903],\n",
       "       [-3.66554271, -3.67627657],\n",
       "       [ 6.17167725, -0.35945091],\n",
       "       [ 1.90496953, -4.92747152],\n",
       "       [-3.391539  , -5.65499543],\n",
       "       [ 2.74677439, -1.96554542],\n",
       "       [ 2.6392083 , -3.03386111],\n",
       "       [-4.5119746 , -4.73119023],\n",
       "       [ 4.81168884,  0.83794174],\n",
       "       [ 2.32374791, -0.97348252],\n",
       "       [-0.24072483, -1.3127746 ],\n",
       "       [ 3.96138334,  7.0091378 ],\n",
       "       [-4.97430865, -5.81038461],\n",
       "       [ 1.33902395, -4.19688545],\n",
       "       [ 0.64453791, -2.39271262],\n",
       "       [ 5.18900021,  0.78709591],\n",
       "       [ 1.89852257,  6.58441691],\n",
       "       [ 1.98631796, -5.05539208],\n",
       "       [ 3.28287194,  8.79563668],\n",
       "       [ 4.65000338,  0.95577852],\n",
       "       [ 4.92981735,  0.60307377],\n",
       "       [ 6.61502046,  0.91118847],\n",
       "       [ 1.75237336, -2.65317389],\n",
       "       [-4.17279415, -4.34638288],\n",
       "       [ 3.29091292,  5.25519   ],\n",
       "       [ 5.3864801 ,  1.78562661],\n",
       "       [ 6.77139193,  0.10750942],\n",
       "       [ 4.7039345 ,  0.49223366],\n",
       "       [ 3.64010249,  6.09235539],\n",
       "       [-0.24773365, -2.10346309],\n",
       "       [ 3.00804108, -3.50398645],\n",
       "       [-4.04096366, -3.53053251],\n",
       "       [-3.47001892, -4.37540738],\n",
       "       [-4.58343164, -3.26740995],\n",
       "       [ 4.59821354,  1.59262517],\n",
       "       [ 3.19841257,  5.04732191],\n",
       "       [ 4.79138654, -0.19170694],\n",
       "       [-3.32011685, -4.59788121],\n",
       "       [ 4.32159607,  6.22550936],\n",
       "       [ 1.82470196, -3.19640493],\n",
       "       [ 5.38155666,  2.26676877],\n",
       "       [-4.21235759, -4.02053192],\n",
       "       [ 6.10290011,  0.34401846],\n",
       "       [ 2.28827521,  4.946883  ],\n",
       "       [ 3.8933192 ,  5.86318972],\n",
       "       [ 2.6308117 ,  6.19567503],\n",
       "       [-4.72656837, -5.93271971],\n",
       "       [ 5.38018603, -0.65445871],\n",
       "       [-3.9864421 , -4.21034455],\n",
       "       [-4.43475374, -4.12448518],\n",
       "       [ 6.6923537 ,  1.36709799],\n",
       "       [ 4.71530956,  7.58174199],\n",
       "       [ 6.13992354,  1.59597649],\n",
       "       [ 3.14262772, -2.26775163],\n",
       "       [ 0.94745291, -2.19919775],\n",
       "       [-5.50006242, -4.82059851],\n",
       "       [-4.5343719 , -4.98141623],\n",
       "       [ 5.22601846,  2.47533949],\n",
       "       [ 5.73360927, -0.4342303 ],\n",
       "       [ 2.30125074,  8.57852931],\n",
       "       [ 5.62638992, -1.04857484],\n",
       "       [ 1.53579083, -4.08543038],\n",
       "       [ 2.57602701,  6.98989574],\n",
       "       [ 6.58585156,  0.05957044],\n",
       "       [ 1.50374966, -3.71886298],\n",
       "       [-4.15022647, -4.226127  ],\n",
       "       [-4.44646599, -4.17694292],\n",
       "       [ 3.97530255,  7.17171503],\n",
       "       [ 7.11347749, -0.48195408],\n",
       "       [ 7.44622309, -0.18941251],\n",
       "       [ 1.53733737,  5.8193534 ],\n",
       "       [-4.81082446, -5.18738165],\n",
       "       [ 1.22783463, -3.50464056],\n",
       "       [ 3.36584387,  6.30169126],\n",
       "       [-4.96439699, -6.07088502],\n",
       "       [ 1.70218533, -2.87856133],\n",
       "       [-3.09630409, -2.48530379],\n",
       "       [ 2.49660992, -2.91252618],\n",
       "       [-3.38524747, -3.49552511],\n",
       "       [ 1.34435439, -2.64945622],\n",
       "       [-4.11016477, -3.42692871],\n",
       "       [-3.04786576, -5.94585341],\n",
       "       [ 5.97133909,  1.07557805],\n",
       "       [ 1.96238001,  4.79427882],\n",
       "       [ 2.35334108,  5.282867  ],\n",
       "       [-3.88570573, -4.6395712 ],\n",
       "       [ 1.59023166,  5.17454332],\n",
       "       [ 3.1451523 ,  6.58299082],\n",
       "       [ 3.81962613,  5.07469957],\n",
       "       [-6.03676671, -3.37042592],\n",
       "       [ 2.53953668,  6.06395971],\n",
       "       [ 0.74340451, -3.17233426],\n",
       "       [ 4.74232293,  6.0545032 ],\n",
       "       [ 6.26832619,  6.23049491],\n",
       "       [ 1.51047544, -1.05016002],\n",
       "       [ 1.22258682,  6.2785466 ],\n",
       "       [ 5.23075405,  2.87074331],\n",
       "       [-5.27517989, -4.22527853],\n",
       "       [ 5.55817034,  1.33033093],\n",
       "       [-2.06770873, -5.21164726],\n",
       "       [ 6.74773672, -0.30988833],\n",
       "       [-4.23234155, -4.28167516],\n",
       "       [-4.24791379, -3.72311827],\n",
       "       [ 6.30153599,  1.48643254],\n",
       "       [ 3.73100475,  7.5021313 ],\n",
       "       [ 5.2880907 ,  0.50987118],\n",
       "       [ 1.23440139, -1.98742346],\n",
       "       [-3.6440812 , -5.34564807],\n",
       "       [-3.85259038, -4.82429962],\n",
       "       [ 3.62758747,  6.52329224],\n",
       "       [ 3.29521851,  4.75261246],\n",
       "       [ 4.46494849,  1.51980741],\n",
       "       [ 1.92884795, -3.73886694],\n",
       "       [-3.48502987, -3.26394622],\n",
       "       [ 4.56345588,  1.23946843],\n",
       "       [ 7.07398729,  0.7458452 ],\n",
       "       [ 0.25785621, -3.32900493],\n",
       "       [ 5.14687399,  1.6996436 ],\n",
       "       [ 4.34499034,  6.94993206],\n",
       "       [-4.52170337, -3.99207309],\n",
       "       [ 6.90691305,  1.52480404],\n",
       "       [ 2.32920017,  5.05202606],\n",
       "       [ 0.30973601, -4.33176086],\n",
       "       [ 4.02681882,  5.63926178],\n",
       "       [ 0.53812481, -3.3854645 ],\n",
       "       [-4.61885844, -4.81386876],\n",
       "       [ 3.76137783,  6.21590753],\n",
       "       [-4.68993938, -3.22561366],\n",
       "       [ 3.90547344,  5.4632881 ],\n",
       "       [ 1.79361456, -5.42162109],\n",
       "       [ 1.94278909, -3.17031457],\n",
       "       [ 4.52553486,  0.75751916],\n",
       "       [ 2.64504534,  7.65290198],\n",
       "       [ 4.17818063,  1.95883451],\n",
       "       [ 2.93718333, -2.14478506],\n",
       "       [ 5.86599176,  0.4852489 ],\n",
       "       [ 0.37784067, -2.05879835],\n",
       "       [ 4.53580507,  1.17014898],\n",
       "       [ 0.49630107, -3.96282813],\n",
       "       [ 4.52139845,  5.84631488],\n",
       "       [-5.18928028, -4.39560163],\n",
       "       [-4.44998103, -5.29260976],\n",
       "       [-4.16891029, -5.99129032],\n",
       "       [ 1.02578109,  5.48316933],\n",
       "       [ 2.13116721, -3.67242845],\n",
       "       [-2.83818537, -5.79273793],\n",
       "       [ 2.10363249,  4.01360737],\n",
       "       [ 2.72384056, -3.12825517],\n",
       "       [ 4.40360545,  0.91436825],\n",
       "       [ 3.36378444,  5.47469839],\n",
       "       [ 2.7887081 ,  4.88792797],\n",
       "       [ 1.84174207, -2.52222662],\n",
       "       [ 4.8837673 ,  7.14069319],\n",
       "       [-4.47034156, -3.06581897],\n",
       "       [ 6.08857091,  3.01612598],\n",
       "       [ 1.16922157, -0.70590783],\n",
       "       [-3.76100471, -5.26026756]])"
      ]
     },
     "metadata": {},
     "execution_count": 6
    }
   ],
   "metadata": {}
  },
  {
   "cell_type": "code",
   "execution_count": 7,
   "source": [
    "datos[1]"
   ],
   "outputs": [
    {
     "output_type": "execute_result",
     "data": {
      "text/plain": [
       "array([0, 1, 0, 1, 0, 0, 2, 2, 1, 0, 1, 1, 0, 3, 0, 0, 2, 3, 3, 2, 2, 1,\n",
       "       0, 3, 0, 0, 0, 3, 2, 3, 0, 3, 3, 1, 2, 0, 1, 2, 3, 1, 2, 1, 2, 1,\n",
       "       3, 1, 0, 3, 0, 0, 3, 1, 0, 0, 2, 3, 0, 0, 1, 2, 0, 2, 1, 1, 1, 0,\n",
       "       3, 2, 1, 1, 1, 2, 0, 0, 3, 3, 3, 1, 2, 1, 3, 2, 0, 1, 3, 1, 2, 2,\n",
       "       2, 3, 1, 3, 3, 1, 2, 1, 0, 0, 3, 3, 1, 1, 2, 1, 0, 2, 1, 0, 3, 3,\n",
       "       2, 1, 1, 2, 3, 0, 2, 3, 0, 3, 0, 3, 0, 3, 3, 1, 2, 2, 3, 2, 2, 2,\n",
       "       3, 2, 0, 2, 2, 0, 2, 1, 3, 1, 3, 1, 3, 3, 1, 2, 1, 0, 3, 3, 2, 2,\n",
       "       1, 0, 3, 1, 1, 0, 1, 2, 3, 1, 2, 0, 2, 0, 3, 2, 3, 2, 0, 0, 1, 2,\n",
       "       1, 0, 1, 0, 1, 0, 2, 3, 3, 3, 2, 0, 3, 2, 0, 1, 2, 2, 0, 2, 3, 1,\n",
       "       0, 3])"
      ]
     },
     "metadata": {},
     "execution_count": 7
    }
   ],
   "metadata": {}
  },
  {
   "cell_type": "code",
   "execution_count": 11,
   "source": [
    "plt.scatter(datos[0][:,0], datos[0][:,1])"
   ],
   "outputs": [
    {
     "output_type": "execute_result",
     "data": {
      "text/plain": [
       "<matplotlib.collections.PathCollection at 0x7fab172f8eb0>"
      ]
     },
     "metadata": {},
     "execution_count": 11
    },
    {
     "output_type": "display_data",
     "data": {
      "text/plain": [
       "<Figure size 432x288 with 1 Axes>"
      ],
      "image/png": "[encoded data removed]"
     },
     "metadata": {
      "needs_background": "light"
     }
    }
   ],
   "metadata": {}
  },
  {
   "cell_type": "code",
   "execution_count": 12,
   "source": [
    "from sklearn.cluster import KMeans"
   ],
   "outputs": [],
   "metadata": {}
  },
  {
   "cell_type": "code",
   "execution_count": 13,
   "source": [
    "modelo = KMeans(n_clusters=4)"
   ],
   "outputs": [],
   "metadata": {}
  },
  {
   "cell_type": "code",
   "execution_count": 15,
   "source": [
    "modelo.fit(datos[0])"
   ],
   "outputs": [
    {
     "output_type": "execute_result",
     "data": {
      "text/plain": [
       "KMeans(n_clusters=4)"
      ]
     },
     "metadata": {},
     "execution_count": 15
    }
   ],
   "metadata": {}
  },
  {
   "cell_type": "code",
   "execution_count": 16,
   "source": [
    "modelo.cluster_centers_"
   ],
   "outputs": [
    {
     "output_type": "execute_result",
     "data": {
      "text/plain": [
       "array([[ 5.54928247,  0.91717411],\n",
       "       [ 1.54574944, -3.01746056],\n",
       "       [ 3.27142258,  6.12161897],\n",
       "       [-4.15297473, -4.4752189 ]])"
      ]
     },
     "metadata": {},
     "execution_count": 16
    }
   ],
   "metadata": {}
  },
  {
   "cell_type": "code",
   "execution_count": 19,
   "source": [
    "modelo.labels_"
   ],
   "outputs": [
    {
     "output_type": "execute_result",
     "data": {
      "text/plain": [
       "array([1, 0, 1, 0, 1, 1, 2, 2, 0, 1, 0, 0, 1, 3, 1, 1, 2, 3, 3, 2, 2, 0,\n",
       "       1, 3, 1, 1, 1, 3, 2, 3, 1, 3, 3, 0, 2, 1, 0, 2, 3, 0, 2, 0, 2, 0,\n",
       "       3, 0, 1, 3, 1, 1, 3, 0, 1, 1, 2, 3, 1, 1, 0, 2, 1, 2, 0, 0, 0, 1,\n",
       "       3, 2, 0, 0, 0, 2, 1, 1, 3, 3, 3, 0, 2, 0, 3, 2, 1, 0, 3, 0, 2, 2,\n",
       "       2, 3, 0, 3, 3, 0, 2, 0, 1, 1, 3, 3, 0, 0, 2, 0, 1, 2, 0, 1, 3, 3,\n",
       "       2, 0, 0, 2, 3, 1, 2, 3, 1, 3, 1, 3, 1, 3, 3, 0, 2, 2, 3, 2, 2, 2,\n",
       "       3, 2, 1, 2, 2, 1, 2, 0, 3, 0, 3, 0, 3, 3, 0, 2, 0, 1, 3, 3, 2, 2,\n",
       "       0, 1, 3, 0, 0, 1, 0, 2, 3, 0, 2, 1, 2, 1, 3, 2, 3, 2, 1, 1, 0, 2,\n",
       "       0, 1, 0, 1, 0, 1, 2, 3, 3, 3, 2, 1, 3, 2, 1, 0, 2, 2, 1, 2, 3, 0,\n",
       "       1, 3], dtype=int32)"
      ]
     },
     "metadata": {},
     "execution_count": 19
    }
   ],
   "metadata": {}
  },
  {
   "cell_type": "code",
   "execution_count": 21,
   "source": [
    "datos[1]"
   ],
   "outputs": [
    {
     "output_type": "execute_result",
     "data": {
      "text/plain": [
       "array([0, 1, 0, 1, 0, 0, 2, 2, 1, 0, 1, 1, 0, 3, 0, 0, 2, 3, 3, 2, 2, 1,\n",
       "       0, 3, 0, 0, 0, 3, 2, 3, 0, 3, 3, 1, 2, 0, 1, 2, 3, 1, 2, 1, 2, 1,\n",
       "       3, 1, 0, 3, 0, 0, 3, 1, 0, 0, 2, 3, 0, 0, 1, 2, 0, 2, 1, 1, 1, 0,\n",
       "       3, 2, 1, 1, 1, 2, 0, 0, 3, 3, 3, 1, 2, 1, 3, 2, 0, 1, 3, 1, 2, 2,\n",
       "       2, 3, 1, 3, 3, 1, 2, 1, 0, 0, 3, 3, 1, 1, 2, 1, 0, 2, 1, 0, 3, 3,\n",
       "       2, 1, 1, 2, 3, 0, 2, 3, 0, 3, 0, 3, 0, 3, 3, 1, 2, 2, 3, 2, 2, 2,\n",
       "       3, 2, 0, 2, 2, 0, 2, 1, 3, 1, 3, 1, 3, 3, 1, 2, 1, 0, 3, 3, 2, 2,\n",
       "       1, 0, 3, 1, 1, 0, 1, 2, 3, 1, 2, 0, 2, 0, 3, 2, 3, 2, 0, 0, 1, 2,\n",
       "       1, 0, 1, 0, 1, 0, 2, 3, 3, 3, 2, 0, 3, 2, 0, 1, 2, 2, 0, 2, 3, 1,\n",
       "       0, 3])"
      ]
     },
     "metadata": {},
     "execution_count": 21
    }
   ],
   "metadata": {}
  },
  {
   "cell_type": "code",
   "execution_count": 25,
   "source": [
    "fig, (ax1, ax2) = plt.subplots(1,2,figsize=(12,4))\n",
    "\n",
    "ax1.scatter(datos[0][:,0], datos[0][:,1], c=modelo.labels_)\n",
    "ax1.set_title(\"Algoritmo k-medias\")\n",
    "\n",
    "ax2.scatter(datos[0][:,0], datos[0][:,1], c=datos[1])\n",
    "ax2.set_title(\"Datos originales\")"
   ],
   "outputs": [
    {
     "output_type": "execute_result",
     "data": {
      "text/plain": [
       "Text(0.5, 1.0, 'Datos originales')"
      ]
     },
     "metadata": {},
     "execution_count": 25
    },
    {
     "output_type": "display_data",
     "data": {
      "text/plain": [
       "<Figure size 864x288 with 2 Axes>"
      ],
      "image/png": "[encoded data removed]"
     },
     "metadata": {
      "needs_background": "light"
     }
    }
   ],
   "metadata": {}
  },
  {
   "cell_type": "code",
   "execution_count": null,
   "source": [],
   "outputs": [],
   "metadata": {}
  }
 ],
 "metadata": {
  "orig_nbformat": 4,
  "language_info": {
   "name": "python"
  }
 },
 "nbformat": 4,
 "nbformat_minor": 2
}