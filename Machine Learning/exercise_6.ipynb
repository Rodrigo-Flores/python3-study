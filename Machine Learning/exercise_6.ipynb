{
 "cells": [
  {
   "cell_type": "markdown",
   "id": "c2c0cda8",
   "metadata": {},
   "source": [
    "# Ejercicio\n",
    "Crea un array de una dimensión con 9 valores enteros aleatorios entre 0 y 100.\n",
    "Convierte ese array en una matriz de 2 dimensiones (3 filas y 3 columnas).\n",
    "Muestra por pantalla el valor del elemento de la matriz, de la esquina inferior derecha."
   ]
  },
  {
   "cell_type": "code",
   "execution_count": 1,
   "id": "e0329f95",
   "metadata": {},
   "outputs": [],
   "source": [
    "import numpy as np"
   ]
  },
  {
   "cell_type": "code",
   "execution_count": 4,
   "id": "da735d7f",
   "metadata": {},
   "outputs": [
    {
     "data": {
      "text/plain": [
       "array([86, 57, 91, 99, 55, 99, 16, 28, 66])"
      ]
     },
     "execution_count": 4,
     "metadata": {},
     "output_type": "execute_result"
    }
   ],
   "source": [
    "array = np.random.randint(0,101,9)\n",
    "array"
   ]
  },
  {
   "cell_type": "code",
   "execution_count": 7,
   "id": "0c6f94fc",
   "metadata": {},
   "outputs": [
    {
     "data": {
      "text/plain": [
       "array([[86, 57, 91],\n",
       "       [99, 55, 99],\n",
       "       [16, 28, 66]])"
      ]
     },
     "execution_count": 7,
     "metadata": {},
     "output_type": "execute_result"
    }
   ],
   "source": [
    "matriz = array.reshape(3,3)\n",
    "matriz"
   ]
  },
  {
   "cell_type": "code",
   "execution_count": 8,
   "id": "028e4c26",
   "metadata": {},
   "outputs": [
    {
     "data": {
      "text/plain": [
       "66"
      ]
     },
     "execution_count": 8,
     "metadata": {},
     "output_type": "execute_result"
    }
   ],
   "source": [
    "matriz[2][2]"
   ]
  }
 ],
 "metadata": {
  "kernelspec": {
   "display_name": "Python 3",
   "language": "python",
   "name": "python3"
  },
  "language_info": {
   "codemirror_mode": {
    "name": "ipython",
    "version": 3
   },
   "file_extension": ".py",
   "mimetype": "text/x-python",
   "name": "python",
   "nbconvert_exporter": "python",
   "pygments_lexer": "ipython3",
   "version": "3.8.5"
  }
 },
 "nbformat": 4,
 "nbformat_minor": 5
}
