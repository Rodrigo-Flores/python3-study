{
 "cells": [
  {
   "cell_type": "code",
   "execution_count": 6,
   "id": "ccfd707b",
   "metadata": {
    "slideshow": {
     "slide_type": "slide"
    }
   },
   "outputs": [
    {
     "data": {
      "text/plain": [
       "\"\\nfrase = 'Hola, este es un curso básico de Python'\\nDivida la frase en palabras y cuente cuantas hay en total\\n\""
      ]
     },
     "execution_count": 6,
     "metadata": {},
     "output_type": "execute_result"
    }
   ],
   "source": [
    "# Ejercicio\n",
    "'''\n",
    "frase = 'Hola, este es un curso básico de Python'\n",
    "Divida la frase en palabras y cuente cuantas hay en total\n",
    "'''"
   ]
  },
  {
   "cell_type": "code",
   "execution_count": 7,
   "id": "c63c2a73",
   "metadata": {
    "slideshow": {
     "slide_type": "slide"
    }
   },
   "outputs": [
    {
     "name": "stdout",
     "output_type": "stream",
     "text": [
      "8\n"
     ]
    }
   ],
   "source": [
    "frase = 'Hola, este es un curso básico de Python'\n",
    "new = frase.split(' ')\n",
    "count = 0\n",
    "for i in new:\n",
    "    count += 1\n",
    "    \n",
    "print(count)\n",
    "    "
   ]
  }
 ],
 "metadata": {
  "celltoolbar": "Slideshow",
  "kernelspec": {
   "display_name": "Python 3",
   "language": "python",
   "name": "python3"
  },
  "language_info": {
   "codemirror_mode": {
    "name": "ipython",
    "version": 3
   },
   "file_extension": ".py",
   "mimetype": "text/x-python",
   "name": "python",
   "nbconvert_exporter": "python",
   "pygments_lexer": "ipython3",
   "version": "3.8.5"
  }
 },
 "nbformat": 4,
 "nbformat_minor": 5
}
