{
 "cells": [
  {
   "cell_type": "code",
   "execution_count": 1,
   "id": "39bba806",
   "metadata": {},
   "outputs": [],
   "source": [
    "import numpy as np"
   ]
  },
  {
   "cell_type": "code",
   "execution_count": 6,
   "id": "e49217a8",
   "metadata": {},
   "outputs": [
    {
     "data": {
      "text/plain": [
       "array([50, 42, 91, 90, 25, 44, 80, 93, 85, 92, 96, 64, 43,  9, 10, 75,  1,\n",
       "       60, 41,  1, 41, 77, 77, 60, 85])"
      ]
     },
     "execution_count": 6,
     "metadata": {},
     "output_type": "execute_result"
    }
   ],
   "source": [
    "array = np.random.randint(1,100,25)\n",
    "array"
   ]
  },
  {
   "cell_type": "code",
   "execution_count": 7,
   "id": "f80b7598",
   "metadata": {},
   "outputs": [
    {
     "data": {
      "text/plain": [
       "array([[50, 42, 91, 90, 25],\n",
       "       [44, 80, 93, 85, 92],\n",
       "       [96, 64, 43,  9, 10],\n",
       "       [75,  1, 60, 41,  1],\n",
       "       [41, 77, 77, 60, 85]])"
      ]
     },
     "execution_count": 7,
     "metadata": {},
     "output_type": "execute_result"
    }
   ],
   "source": [
    "matriz = array.reshape(5,5) # Estos parametros multiplicados entre si debe ser cantidad de elementos del array\n",
    "matriz"
   ]
  },
  {
   "cell_type": "code",
   "execution_count": null,
   "id": "1d83d4ee",
   "metadata": {},
   "outputs": [],
   "source": []
  }
 ],
 "metadata": {
  "kernelspec": {
   "display_name": "Python 3",
   "language": "python",
   "name": "python3"
  },
  "language_info": {
   "codemirror_mode": {
    "name": "ipython",
    "version": 3
   },
   "file_extension": ".py",
   "mimetype": "text/x-python",
   "name": "python",
   "nbconvert_exporter": "python",
   "pygments_lexer": "ipython3",
   "version": "3.8.5"
  }
 },
 "nbformat": 4,
 "nbformat_minor": 5
}
