{
 "cells": [
  {
   "cell_type": "code",
   "execution_count": 1,
   "id": "e6bd351d",
   "metadata": {},
   "outputs": [],
   "source": [
    "import numpy as np"
   ]
  },
  {
   "cell_type": "code",
   "execution_count": 2,
   "id": "9fb81d07",
   "metadata": {},
   "outputs": [
    {
     "data": {
      "text/plain": [
       "array([70, 11, 37, 21, 71, 75, 95, 41, 63, 62, 60, 76, 98, 81, 74, 61, 91,\n",
       "       76, 78, 69, 67, 30, 35,  3, 14, 10,  8, 28, 21, 68, 56, 25, 31, 93,\n",
       "       22, 77, 89, 79, 10, 72, 50, 46, 50, 28, 73, 41, 21, 52, 80, 27])"
      ]
     },
     "execution_count": 2,
     "metadata": {},
     "output_type": "execute_result"
    }
   ],
   "source": [
    "array = np.random.randint(1,100,50)\n",
    "array"
   ]
  },
  {
   "cell_type": "code",
   "execution_count": 4,
   "id": "c49e65df",
   "metadata": {},
   "outputs": [
    {
     "data": {
      "text/plain": [
       "98"
      ]
     },
     "execution_count": 4,
     "metadata": {},
     "output_type": "execute_result"
    }
   ],
   "source": [
    "maximo = np.max(array)\n",
    "maximo"
   ]
  },
  {
   "cell_type": "code",
   "execution_count": 6,
   "id": "89094008",
   "metadata": {},
   "outputs": [
    {
     "data": {
      "text/plain": [
       "12"
      ]
     },
     "execution_count": 6,
     "metadata": {},
     "output_type": "execute_result"
    }
   ],
   "source": [
    "posicion_maximo = array.argmax() # posicion del maximo en el array\n",
    "posicion_maximo"
   ]
  },
  {
   "cell_type": "code",
   "execution_count": 5,
   "id": "5312e073",
   "metadata": {},
   "outputs": [
    {
     "data": {
      "text/plain": [
       "3"
      ]
     },
     "execution_count": 5,
     "metadata": {},
     "output_type": "execute_result"
    }
   ],
   "source": [
    "minimo = np.min(array)\n",
    "minimo"
   ]
  },
  {
   "cell_type": "code",
   "execution_count": 8,
   "id": "6c5ee396",
   "metadata": {},
   "outputs": [
    {
     "data": {
      "text/plain": [
       "23"
      ]
     },
     "execution_count": 8,
     "metadata": {},
     "output_type": "execute_result"
    }
   ],
   "source": [
    "posicion_minimo = array.argmin()  # posicion del maximo en el array\n",
    "posicion_minimo"
   ]
  }
 ],
 "metadata": {
  "kernelspec": {
   "display_name": "Python 3",
   "language": "python",
   "name": "python3"
  },
  "language_info": {
   "codemirror_mode": {
    "name": "ipython",
    "version": 3
   },
   "file_extension": ".py",
   "mimetype": "text/x-python",
   "name": "python",
   "nbconvert_exporter": "python",
   "pygments_lexer": "ipython3",
   "version": "3.8.5"
  }
 },
 "nbformat": 4,
 "nbformat_minor": 5
}
