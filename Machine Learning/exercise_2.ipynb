{
 "cells": [
  {
   "cell_type": "code",
   "execution_count": 1,
   "id": "c3b7a044",
   "metadata": {},
   "outputs": [
    {
     "data": {
      "text/plain": [
       "'\\nDada la siguiente lista:\\n    lista = [1, -1, 4, -15, 9, 7, 6, -3, 2, -20]\\n    \\nCrear funcion \"positivo\" y filtrar con \"filter\"\\n'"
      ]
     },
     "execution_count": 1,
     "metadata": {},
     "output_type": "execute_result"
    }
   ],
   "source": [
    "# Ejercicio\n",
    "'''\n",
    "Dada la siguiente lista:\n",
    "    lista = [1, -1, 4, -15, 9, 7, 6, -3, 2, -20]\n",
    "    \n",
    "Crear funcion \"positivo\" y filtrar con \"filter\"\n",
    "'''"
   ]
  },
  {
   "cell_type": "code",
   "execution_count": 3,
   "id": "a462be8e",
   "metadata": {},
   "outputs": [],
   "source": [
    "lista = [1, -1, 4, -15, 9, 7, 6, -3, 2, -20]"
   ]
  },
  {
   "cell_type": "code",
   "execution_count": 21,
   "id": "42ab4454",
   "metadata": {},
   "outputs": [],
   "source": [
    "def positivos(lst):\n",
    "    if lst >= 0:\n",
    "        return lst\n",
    "\n",
    "            "
   ]
  },
  {
   "cell_type": "code",
   "execution_count": 22,
   "id": "9e97b755",
   "metadata": {},
   "outputs": [],
   "source": [
    "final = list(filter(positivos, lista))"
   ]
  },
  {
   "cell_type": "code",
   "execution_count": 23,
   "id": "a9d5a798",
   "metadata": {},
   "outputs": [
    {
     "name": "stdout",
     "output_type": "stream",
     "text": [
      "[1, 4, 9, 7, 6, 2]\n"
     ]
    }
   ],
   "source": [
    "print(final)"
   ]
  }
 ],
 "metadata": {
  "kernelspec": {
   "display_name": "Python 3",
   "language": "python",
   "name": "python3"
  },
  "language_info": {
   "codemirror_mode": {
    "name": "ipython",
    "version": 3
   },
   "file_extension": ".py",
   "mimetype": "text/x-python",
   "name": "python",
   "nbconvert_exporter": "python",
   "pygments_lexer": "ipython3",
   "version": "3.8.5"
  }
 },
 "nbformat": 4,
 "nbformat_minor": 5
}
