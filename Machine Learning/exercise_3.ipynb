{
 "cells": [
  {
   "cell_type": "code",
   "execution_count": 14,
   "id": "059c4839",
   "metadata": {},
   "outputs": [],
   "source": [
    "lista = ['manzana', 'platano', 'melocoton', 'pera', 'manzana', 'limon', 'platano', 'naranaja']"
   ]
  },
  {
   "cell_type": "code",
   "execution_count": 15,
   "id": "8d1ac4fb",
   "metadata": {},
   "outputs": [],
   "source": [
    "conjunto = set(lista)"
   ]
  },
  {
   "cell_type": "code",
   "execution_count": 16,
   "id": "a8e1daec",
   "metadata": {},
   "outputs": [
    {
     "data": {
      "text/plain": [
       "{'limon', 'manzana', 'melocoton', 'naranaja', 'pera', 'platano'}"
      ]
     },
     "execution_count": 16,
     "metadata": {},
     "output_type": "execute_result"
    }
   ],
   "source": [
    "conjunto"
   ]
  },
  {
   "cell_type": "code",
   "execution_count": 17,
   "id": "09988a0a",
   "metadata": {},
   "outputs": [],
   "source": [
    "final_list = []\n",
    "\n",
    "for i in conjunto:\n",
    "    final_list.append(i)"
   ]
  },
  {
   "cell_type": "code",
   "execution_count": 18,
   "id": "6813c1f1",
   "metadata": {},
   "outputs": [
    {
     "data": {
      "text/plain": [
       "['platano', 'naranaja', 'limon', 'manzana', 'pera', 'melocoton']"
      ]
     },
     "execution_count": 18,
     "metadata": {},
     "output_type": "execute_result"
    }
   ],
   "source": [
    "final_list"
   ]
  }
 ],
 "metadata": {
  "kernelspec": {
   "display_name": "Python 3",
   "language": "python",
   "name": "python3"
  },
  "language_info": {
   "codemirror_mode": {
    "name": "ipython",
    "version": 3
   },
   "file_extension": ".py",
   "mimetype": "text/x-python",
   "name": "python",
   "nbconvert_exporter": "python",
   "pygments_lexer": "ipython3",
   "version": "3.8.5"
  }
 },
 "nbformat": 4,
 "nbformat_minor": 5
}
