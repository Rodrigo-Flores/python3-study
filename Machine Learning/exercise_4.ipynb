{
 "cells": [
  {
   "cell_type": "code",
   "execution_count": 2,
   "id": "c9431972",
   "metadata": {},
   "outputs": [],
   "source": [
    "lista = [20, 18, 8, 4, 40, 10, 6]"
   ]
  },
  {
   "cell_type": "code",
   "execution_count": 4,
   "id": "68ff96dd",
   "metadata": {},
   "outputs": [],
   "source": [
    "def dividir_entre_dos(num):\n",
    "    return num/2"
   ]
  },
  {
   "cell_type": "code",
   "execution_count": 6,
   "id": "c405a431",
   "metadata": {},
   "outputs": [],
   "source": [
    "new = list(map(dividir_entre_dos, lista))"
   ]
  },
  {
   "cell_type": "code",
   "execution_count": 7,
   "id": "d89186ec",
   "metadata": {},
   "outputs": [
    {
     "data": {
      "text/plain": [
       "[10.0, 9.0, 4.0, 2.0, 20.0, 5.0, 3.0]"
      ]
     },
     "execution_count": 7,
     "metadata": {},
     "output_type": "execute_result"
    }
   ],
   "source": [
    "new"
   ]
  }
 ],
 "metadata": {
  "kernelspec": {
   "display_name": "Python 3",
   "language": "python",
   "name": "python3"
  },
  "language_info": {
   "codemirror_mode": {
    "name": "ipython",
    "version": 3
   },
   "file_extension": ".py",
   "mimetype": "text/x-python",
   "name": "python",
   "nbconvert_exporter": "python",
   "pygments_lexer": "ipython3",
   "version": "3.8.5"
  }
 },
 "nbformat": 4,
 "nbformat_minor": 5
}
